{
  "nbformat": 4,
  "nbformat_minor": 0,
  "metadata": {
    "colab": {
      "provenance": [],
      "authorship_tag": "ABX9TyOySvS9qA3rYmKQshSei1+I",
      "include_colab_link": true
    },
    "kernelspec": {
      "name": "python3",
      "display_name": "Python 3"
    },
    "language_info": {
      "name": "python"
    }
  },
  "cells": [
    {
      "cell_type": "markdown",
      "metadata": {
        "id": "view-in-github",
        "colab_type": "text"
      },
      "source": [
        "<a href=\"https://colab.research.google.com/github/percivalyan/GenerateDummyDataKaryawan/blob/main/SawahFuzzy.ipynb\" target=\"_parent\"><img src=\"https://colab.research.google.com/assets/colab-badge.svg\" alt=\"Open In Colab\"/></a>"
      ]
    },
    {
      "cell_type": "code",
      "execution_count": null,
      "metadata": {
        "colab": {
          "base_uri": "https://localhost:8080/"
        },
        "id": "gFbYyleZf8if",
        "outputId": "ee0d47db-2fe1-4e51-9c23-f1c167d4544b"
      },
      "outputs": [
        {
          "output_type": "stream",
          "name": "stdout",
          "text": [
            "      Sawah   pH  Nitrogen  Texture  Fertility  Elapsed Time (sec)\n",
            "0   Sawah-1  5.2        55       50   50.00000            0.002272\n",
            "1   Sawah-2  6.0        65       45   50.00000            0.000533\n",
            "2   Sawah-3  4.5        35       60   50.00000            0.000497\n",
            "3   Sawah-4  6.3        48       40   50.00000            0.000525\n",
            "4   Sawah-5  5.7        52       55   50.00000            0.000558\n",
            "5   Sawah-6  7.0        70       30   50.00000            0.000494\n",
            "6   Sawah-7  4.8        42       65   50.00000            0.000481\n",
            "7   Sawah-8  6.4        58       35   50.00000            0.000493\n",
            "8   Sawah-9  5.3        50       70   50.00000            0.000510\n",
            "9  Sawah-10  7.2        85       55   76.22807            0.000603\n"
          ]
        }
      ],
      "source": [
        "import numpy as np\n",
        "import skfuzzy as fuzz\n",
        "from skfuzzy import control as ctrl\n",
        "import pandas as pd\n",
        "import time\n",
        "\n",
        "# Input variables (factors affecting soil fertility)\n",
        "pH = ctrl.Antecedent(np.arange(0, 11, 1), 'pH')\n",
        "nitrogen = ctrl.Antecedent(np.arange(0, 101, 1), 'nitrogen')\n",
        "texture = ctrl.Antecedent(np.arange(0, 101, 1), 'texture')\n",
        "\n",
        "# Output variable (soil fertility)\n",
        "fertility = ctrl.Consequent(np.arange(0, 101, 1), 'fertility')\n",
        "\n",
        "# Membership functions for pH\n",
        "pH['acidic'] = fuzz.trimf(pH.universe, [0, 0, 6])\n",
        "pH['neutral'] = fuzz.trimf(pH.universe, [4, 6, 8])\n",
        "pH['alkaline'] = fuzz.trimf(pH.universe, [6, 10, 10])\n",
        "\n",
        "# Membership functions for nitrogen\n",
        "nitrogen['low'] = fuzz.trimf(nitrogen.universe, [0, 0, 50])\n",
        "nitrogen['medium'] = fuzz.trimf(nitrogen.universe, [25, 50, 75])\n",
        "nitrogen['high'] = fuzz.trimf(nitrogen.universe, [50, 100, 100])\n",
        "\n",
        "# Membership functions for texture\n",
        "texture['clay'] = fuzz.trimf(texture.universe, [0, 0, 50])\n",
        "texture['silt'] = fuzz.trimf(texture.universe, [25, 50, 75])\n",
        "texture['sand'] = fuzz.trimf(texture.universe, [50, 100, 100])\n",
        "\n",
        "# Membership functions for fertility\n",
        "fertility['poor'] = fuzz.trimf(fertility.universe, [0, 0, 50])\n",
        "fertility['average'] = fuzz.trimf(fertility.universe, [25, 50, 75])\n",
        "fertility['high'] = fuzz.trimf(fertility.universe, [50, 100, 100])\n",
        "\n",
        "# Rule base\n",
        "rule1 = ctrl.Rule(pH['acidic'] & nitrogen['low'] & texture['clay'], fertility['poor'])\n",
        "rule2 = ctrl.Rule(pH['alkaline'] & nitrogen['high'] & texture['sand'], fertility['high'])\n",
        "rule3 = ctrl.Rule(pH['neutral'] & nitrogen['medium'] & texture['silt'], fertility['average'])\n",
        "\n",
        "# Control system\n",
        "fertility_ctrl = ctrl.ControlSystem([rule1, rule2, rule3])\n",
        "\n",
        "# Define data for 10 sawahs\n",
        "sawah_data = [\n",
        "    {'pH': 5.2, 'nitrogen': 55, 'texture': 50},\n",
        "    {'pH': 6.0, 'nitrogen': 65, 'texture': 45},\n",
        "    {'pH': 4.5, 'nitrogen': 35, 'texture': 60},\n",
        "    {'pH': 6.3, 'nitrogen': 48, 'texture': 40},\n",
        "    {'pH': 5.7, 'nitrogen': 52, 'texture': 55},\n",
        "    {'pH': 7.0, 'nitrogen': 70, 'texture': 30},\n",
        "    {'pH': 4.8, 'nitrogen': 42, 'texture': 65},\n",
        "    {'pH': 6.4, 'nitrogen': 58, 'texture': 35},\n",
        "    {'pH': 5.3, 'nitrogen': 50, 'texture': 70},\n",
        "    {'pH': 7.2, 'nitrogen': 85, 'texture': 55}\n",
        "]\n",
        "\n",
        "\n",
        "# Initialize empty DataFrame to store results\n",
        "results = []\n",
        "\n",
        "# Simulate for each sawah\n",
        "for i, data in enumerate(sawah_data, 1):\n",
        "    fertility_evaluator = ctrl.ControlSystemSimulation(fertility_ctrl)\n",
        "\n",
        "    # Example input values for each sawah\n",
        "    fertility_evaluator.input['pH'] = data['pH']\n",
        "    fertility_evaluator.input['nitrogen'] = data['nitrogen']\n",
        "    fertility_evaluator.input['texture'] = data['texture']\n",
        "\n",
        "    # Compute\n",
        "    start_time = time.time()\n",
        "    try:\n",
        "        fertility_evaluator.compute()\n",
        "        elapsed_time = time.time() - start_time\n",
        "\n",
        "        # Get output fertility value\n",
        "        fertility_value = fertility_evaluator.output['fertility']\n",
        "\n",
        "        # Store results in a dictionary\n",
        "        results.append({\n",
        "            'Sawah': f'Sawah-{i}',\n",
        "            'pH': data['pH'],\n",
        "            'Nitrogen': data['nitrogen'],\n",
        "            'Texture': data['texture'],\n",
        "            'Fertility': fertility_value,\n",
        "            'Elapsed Time (sec)': elapsed_time\n",
        "        })\n",
        "    except ValueError as e:\n",
        "        print(f\"Error computing for Sawah-{i}: {e}\")\n",
        "        continue\n",
        "\n",
        "# Convert results to DataFrame\n",
        "df_results = pd.DataFrame(results)\n",
        "\n",
        "# Display the results\n",
        "print(df_results)\n"
      ]
    }
  ]
}